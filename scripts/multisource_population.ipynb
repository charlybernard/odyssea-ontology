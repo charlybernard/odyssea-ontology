{
 "cells": [
  {
   "cell_type": "markdown",
   "metadata": {},
   "source": [
    "# Variables"
   ]
  },
  {
   "cell_type": "markdown",
   "metadata": {},
   "source": [
    "## Import libraries"
   ]
  },
  {
   "cell_type": "code",
   "execution_count": 1,
   "metadata": {},
   "outputs": [],
   "source": [
    "import os\n",
    "import sys\n",
    "from rdflib import URIRef, Literal"
   ]
  },
  {
   "cell_type": "markdown",
   "metadata": {},
   "source": [
    "## Defining global variables"
   ]
  },
  {
   "cell_type": "code",
   "execution_count": 2,
   "metadata": {},
   "outputs": [],
   "source": [
    "# Existing files\n",
    "ont_file_name = \"ontology.ttl\"\n",
    "ruleset_file_name = \"rules.pie\"\n",
    "\n",
    "# Created files during process (in `tmp_folder`)\n",
    "export_file_name = \"addresses-temp.ttl\"\n",
    "out_file_name = \"addresses.ttl\"\n",
    "local_config_file_name = \"config_repo.ttl\"\n",
    "facts_ttl_file_name = \"facts_data.ttl\"\n",
    "implicit_to_facts_ttl_file_name = \"implicit_to_facts.ttl\"\n",
    "\n",
    "# Existing folders\n",
    "data_folder_name = \"../data\"\n",
    "\n",
    "# Created folder during process\n",
    "tmp_folder_name = \"../tmp_files\"\n",
    "\n",
    "# GraphDB repository name\n",
    "facts_repository_name = \"addresses_from_factoids\"\n",
    "\n",
    "# Definition of names of named graphes \n",
    "ontology_named_graph_name = \"ontology\"\n",
    "facts_named_graph_name = \"facts\"\n",
    "factoids_named_graph_name = \"factoids\"\n",
    "permanent_named_graph_name = \"permanent\"\n",
    "tmp_named_graph_name = \"temporary\"\n",
    "inter_sources_name_graph_name = \"inter_sources\"\n",
    "\n",
    "# URIs to access to GraphDB\n",
    "str_graphdb_url = \"http://localhost:7200\"\n",
    "\n",
    "py_code_folder_path = \"./code\""
   ]
  },
  {
   "cell_type": "markdown",
   "metadata": {},
   "source": [
    "## Processing global variables\n",
    "\n",
    "* Obtaining absolute file paths from the relative paths given in the previous section\n",
    "* Create a temporary folder if it doesn't already exist to store files to be deleted.\n",
    "* Get RDFLib object for `graphdb_url` from a string"
   ]
  },
  {
   "cell_type": "code",
   "execution_count": 3,
   "metadata": {},
   "outputs": [],
   "source": [
    "tmp_folder = os.path.abspath(tmp_folder_name)\n",
    "data_folder = os.path.abspath(data_folder_name)\n",
    "\n",
    "python_code_folder = os.path.abspath(py_code_folder_path)\n",
    "\n",
    "local_config_file = os.path.join(tmp_folder, local_config_file_name)\n",
    "ont_file = os.path.abspath(ont_file_name)\n",
    "ruleset_file = os.path.abspath(ruleset_file_name)\n",
    "facts_ttl_file = os.path.join(tmp_folder, facts_ttl_file_name)\n",
    "implicit_to_facts_ttl_file = os.path.join(tmp_folder, implicit_to_facts_ttl_file_name)\n",
    "\n",
    "graphdb_url = URIRef(str_graphdb_url)"
   ]
  },
  {
   "cell_type": "markdown",
   "metadata": {},
   "source": [
    "## Import modules located in `code` folder"
   ]
  },
  {
   "cell_type": "code",
   "execution_count": 4,
   "metadata": {},
   "outputs": [],
   "source": [
    "# Calling up the `code` folder contains the python codes\n",
    "sys.path.insert(1, python_code_folder)\n",
    "\n",
    "import filemanagement as fm\n",
    "import graphdb as gd\n",
    "import graphrdf as gr\n",
    "import attributeversioncomparisons as avc\n",
    "import multisourcesprocessing as msp\n",
    "import factoidscreation as fc\n",
    "import timeprocessing as tp"
   ]
  },
  {
   "cell_type": "markdown",
   "metadata": {},
   "source": [
    "## Creation of folders if they don't exist"
   ]
  },
  {
   "cell_type": "code",
   "execution_count": 5,
   "metadata": {},
   "outputs": [],
   "source": [
    "fm.create_folder_if_not_exists(tmp_folder)"
   ]
  },
  {
   "cell_type": "markdown",
   "metadata": {},
   "source": [
    "### Creating the local directory in GraphDB\n",
    "For the creation to work, GraphDB must be launched and therefore the URI given by `graphdb_url` must work. If the directory already exists, nothing is done."
   ]
  },
  {
   "cell_type": "code",
   "execution_count": 6,
   "metadata": {},
   "outputs": [],
   "source": [
    "# Il se peut que la suppression d'un répertoire ne fonctionne pas donc pour éviter la suppresion au moment de la réinitialisation (suppression + (re)création)\n",
    "# `allow_removal` doit valoir False et dans ce cas-là, le répertoire sera juste vidé.\n",
    "allow_removal = False\n",
    "disable_same_as = False\n",
    "\n",
    "gd.reinitialize_repository(graphdb_url, facts_repository_name, local_config_file, ruleset_name=\"owl2-rl-optimized\", disable_same_as=disable_same_as, allow_removal=allow_removal)\n",
    "# gd.reinitialize_repository(graphdb_url, facts_repository_name, local_config_file, ruleset_file=ruleset_file, disable_same_as=disable_same_as, allow_removal=allow_removal)"
   ]
  },
  {
   "cell_type": "markdown",
   "metadata": {},
   "source": [
    "## Local directory management"
   ]
  },
  {
   "cell_type": "markdown",
   "metadata": {},
   "source": [
    "## Importing ontologies"
   ]
  },
  {
   "cell_type": "code",
   "execution_count": 7,
   "metadata": {},
   "outputs": [],
   "source": [
    "gd.load_ontologies(graphdb_url, facts_repository_name, [ont_file], ontology_named_graph_name)"
   ]
  },
  {
   "cell_type": "markdown",
   "metadata": {},
   "source": [
    "## Definition of variables linked to sources"
   ]
  },
  {
   "cell_type": "markdown",
   "metadata": {},
   "source": [
    "### Paris thoroughfares via Wikidata"
   ]
  },
  {
   "cell_type": "markdown",
   "metadata": {},
   "source": [
    "* `wd` for \"wikidata\"\n",
    "* `wdp_land` for \"wikidata paris landmarks\"\n",
    "* `wdp_loc` for \"wikidata paris locations\""
   ]
  },
  {
   "cell_type": "code",
   "execution_count": 8,
   "metadata": {},
   "outputs": [],
   "source": [
    "# Name of the directory where the factoid triples of Wikidata data are stored and constructed\n",
    "wd_repository_name = \"factoids_wikidata\"\n",
    "\n",
    "# CSV file to store the result of the selection query\n",
    "wdp_land_csv_file_name = \"wd_paris_landmarks.csv\"\n",
    "wdp_land_csv_file = os.path.join(data_folder, wdp_land_csv_file_name)\n",
    "\n",
    "# CSV file to store the result of the selection query\n",
    "wdp_loc_csv_file_name = \"wd_paris_locations.csv\"\n",
    "wdp_loc_csv_file = os.path.join(data_folder, wdp_loc_csv_file_name)\n",
    "\n",
    "# TTL file for structuring knowledge of the Paris thoroughfares\n",
    "wdp_kg_file_name = \"wd_paris.ttl\"\n",
    "wdp_kg_file = os.path.join(tmp_folder, wdp_kg_file_name)\n",
    "\n",
    "# Final TTL files for Wikidata factoids\n",
    "wdp_factoids_kg_file_name = \"wd_paris_factoids.ttl\"\n",
    "wdp_factoids_kg_file = os.path.join(tmp_folder, wdp_factoids_kg_file_name)\n",
    "wdp_permanent_kg_file_name = \"wd_paris_permanent.ttl\"\n",
    "wdp_permanent_kg_file = os.path.join(tmp_folder, wdp_permanent_kg_file_name)\n",
    "\n",
    "# Time interval of validity of the source (there is not end time)\n",
    "wdp_time_description = {\n",
    "    \"start_time\" : {\"stamp\":\"2024-08-26T00:00:00Z\",\"precision\":\"day\",\"calendar\":\"gregorian\"}\n",
    "    }"
   ]
  },
  {
   "cell_type": "markdown",
   "metadata": {},
   "source": [
    "### Nomenclature of Paris thoroughfares (Ville de Paris data)"
   ]
  },
  {
   "cell_type": "markdown",
   "metadata": {},
   "source": [
    "The City of Paris data is made up of two sets:\n",
    "* [names of current street rights-of-way](https://opendata.paris.fr/explore/dataset/denominations-emprises-voies-actuelles)\n",
    "* [obsolete street names](https://opendata.paris.fr/explore/dataset/denominations-des-voies-caduques)\n",
    "\n",
    "Current roads have a geometric right of way, unlike the old thoroughfares.\n",
    "\n",
    "* `vpt` for ‘ville paris thoroughfares’\n",
    "* `vpta` for ‘ville paris thoroughfares actuelles’.\n",
    "* `vptc` for ‘ville paris thoroughfares caduques’."
   ]
  },
  {
   "cell_type": "code",
   "execution_count": 9,
   "metadata": {},
   "outputs": [],
   "source": [
    "# Name of the directory where the factoid triples of Ville de Paris data are stored and constructed\n",
    "vpt_repository_name = \"factoids_ville_de_paris\"\n",
    "\n",
    "# CSV files containting data\n",
    "vpta_csv_file_name = \"denominations-emprises-voies-actuelles.csv\"\n",
    "vpta_csv_file = os.path.join(data_folder, vpta_csv_file_name)\n",
    "vptc_csv_file_name = \"denominations-des-voies-caduques.csv\"\n",
    "vptc_csv_file = os.path.join(data_folder, vptc_csv_file_name)\n",
    "\n",
    "# TTL file for structuring knowledge of the Paris thoroughfares\n",
    "vpt_kg_file_name = \"voies_paris.ttl\"\n",
    "vpt_kg_file = os.path.join(tmp_folder, vpt_kg_file_name)\n",
    "\n",
    "# Final TTL files for Ville de Paris factoids\n",
    "vpt_factoids_kg_file_name = \"vpt_factoids.ttl\"\n",
    "vpt_factoids_kg_file = os.path.join(tmp_folder, vpt_factoids_kg_file_name)\n",
    "vpt_permanent_kg_file_name = \"vpt_permanent.ttl\"\n",
    "vpt_permanent_kg_file = os.path.join(tmp_folder, vpt_permanent_kg_file_name)\n",
    "\n",
    "# Time interval of validity of the source (there is not end time)\n",
    "vpt_time_description = {\n",
    "    \"start_time\" : {\"stamp\":\"2024-02-10T00:00:00Z\",\"precision\":\"day\",\"calendar\":\"gregorian\"}\n",
    "    }"
   ]
  },
  {
   "cell_type": "markdown",
   "metadata": {},
   "source": [
    "### Base Adresse Nationale (BAN)"
   ]
  },
  {
   "cell_type": "markdown",
   "metadata": {},
   "source": [
    "Data from the [Base Adresse Nationale (BAN)](https://adresse.data.gouv.fr/base-adresse-nationale) (National Address Base), available [here](https://adresse.data.gouv.fr/data/ban/adresses/latest/csv)\n",
    "\n",
    "bpa` for ‘BAN paris addresses’"
   ]
  },
  {
   "cell_type": "code",
   "execution_count": 10,
   "metadata": {},
   "outputs": [],
   "source": [
    "# Name of the directory where the factoid triples of BAN data are stored and constructed\n",
    "bpa_repository_name = \"factoids_ban\"\n",
    "\n",
    "# CSV file containting data\n",
    "bpa_csv_file_name = \"ban_adresses.csv\"\n",
    "bpa_csv_file = os.path.join(data_folder, bpa_csv_file_name)\n",
    "\n",
    "# TTL file for structuring knowledge of Paris addresses\n",
    "bpa_kg_file_name = \"ban_adresses.ttl\"\n",
    "bpa_kg_file = os.path.join(tmp_folder, bpa_kg_file_name)\n",
    "\n",
    "# Final TTL file for BAN factoids\n",
    "bpa_factoids_kg_file_name = \"ban_factoids.ttl\"\n",
    "bpa_factoids_kg_file = os.path.join(tmp_folder, bpa_factoids_kg_file_name)\n",
    "bpa_permanent_kg_file_name = \"ban_permanent.ttl\"\n",
    "bpa_permanent_kg_file = os.path.join(tmp_folder, bpa_permanent_kg_file_name)\n",
    "\n",
    "# Time interval of validity of the source (there is not end time)\n",
    "bpa_time_description = {\n",
    "    \"start_time\" : {\"stamp\":\"2024-01-01T00:00:00Z\",\"precision\":\"day\",\"calendar\":\"gregorian\"}\n",
    "    }"
   ]
  },
  {
   "cell_type": "markdown",
   "metadata": {},
   "source": [
    "### OpenStreetMap (OSM)"
   ]
  },
  {
   "cell_type": "markdown",
   "metadata": {},
   "source": [
    "Extracting data from OpenStreetMap"
   ]
  },
  {
   "cell_type": "code",
   "execution_count": 11,
   "metadata": {},
   "outputs": [],
   "source": [
    "# Name of the directory where the factoid triples of OSM data are stored and constructed\n",
    "osm_repository_name = \"factoids_osm\"\n",
    "\n",
    "# CSV files containting data\n",
    "osm_csv_file_name = \"osm_adresses.csv\"\n",
    "osm_csv_file = os.path.join(data_folder, osm_csv_file_name)\n",
    "osm_hn_csv_file_name = \"osm_hn_adresses.csv\"\n",
    "osm_hn_csv_file = os.path.join(data_folder, osm_hn_csv_file_name)\n",
    "\n",
    "# TTL file for structuring knowledge of OSM addresses\n",
    "osm_kg_file_name = \"osm_adresses.ttl\"\n",
    "osm_kg_file = os.path.join(tmp_folder, osm_kg_file_name)\n",
    "\n",
    "# Final TTL files for OSM factoids\n",
    "osm_factoids_kg_file_name = \"osm_factoids.ttl\"\n",
    "osm_factoids_kg_file = os.path.join(tmp_folder, osm_factoids_kg_file_name)\n",
    "osm_permanent_kg_file_name = \"osm_permanent.ttl\"\n",
    "osm_permanent_kg_file = os.path.join(tmp_folder, osm_permanent_kg_file_name)\n",
    "\n",
    "# Time interval of validity of the source (there is not end time)\n",
    "osm_time_description = {\n",
    "    \"start_time\" : {\"stamp\":\"2024-01-01T00:00:00Z\",\"precision\":\"day\",\"calendar\":\"gregorian\"}\n",
    "    }"
   ]
  },
  {
   "cell_type": "markdown",
   "metadata": {},
   "source": [
    "### Integration of data from Geojson files"
   ]
  },
  {
   "cell_type": "markdown",
   "metadata": {},
   "source": [
    "These files are derived from the vectorisation of maps of Paris:\n",
    "* the revised Napoleonic cadatre of 1847 ;\n",
    "* Andriveau’ plan of 1849 ;\n",
    "* municipal plot plan of 1871 ;\n",
    "* the Municipal Atlas map of 1888."
   ]
  },
  {
   "cell_type": "markdown",
   "metadata": {},
   "source": [
    "#### Global variables for importing data from Geojson files"
   ]
  },
  {
   "cell_type": "code",
   "execution_count": 12,
   "metadata": {},
   "outputs": [],
   "source": [
    "lang = \"fr\"\n",
    "landmark_type = \"Thoroughfare\"\n",
    "geojson_join_property = \"name\"\n",
    "tmp_kg_file_name = \"tmp_kg.ttl\"\n",
    "tmp_kg_file = os.path.join(tmp_folder, tmp_kg_file_name)"
   ]
  },
  {
   "cell_type": "markdown",
   "metadata": {},
   "source": [
    "#### Napoleonic cadastre of 1847"
   ]
  },
  {
   "cell_type": "code",
   "execution_count": 13,
   "metadata": {},
   "outputs": [],
   "source": [
    "# Name of the directory where data factoid triples are stored and constructed\n",
    "cn_1847_repository_name = \"factoids_1847_cadastre_nap\"\n",
    "\n",
    "# Geojson file containting data\n",
    "cn_1847_geojson_file_name = \"1847_cadastre_nap.geojson\"\n",
    "cn_1847_geojson_file = os.path.join(data_folder, cn_1847_geojson_file_name)\n",
    "cn_1847_kg_file_name = \"cn_1847_kg.ttl\"\n",
    "cn_1847_kg_file = os.path.join(tmp_folder, cn_1847_kg_file_name)\n",
    "\n",
    "# Final TTL files of factoids from the revised 1847 Napoleonic cadastre\n",
    "cn_1847_factoids_kg_file_name = \"cn_1847_factoids.ttl\"\n",
    "cn_1847_factoids_kg_file = os.path.join(tmp_folder, cn_1847_factoids_kg_file_name)\n",
    "cn_1847_permanent_kg_file_name = \"cn_1847_permanent.ttl\"\n",
    "cn_1847_permanent_kg_file = os.path.join(tmp_folder, cn_1847_permanent_kg_file_name)\n",
    "\n",
    "cn_1847_geojson = fm.read_json_file(cn_1847_geojson_file)\n",
    "\n",
    "# Description of the source within a dictionary\n",
    "cn_1847_source_desc = {\n",
    "    \"lang\" : \"fr\", \n",
    "    \"label\" : \"Cadastre napoléonien de Gentilly de 1847\",\n",
    "    \"publisher\" : {\n",
    "        \"label\": \"Empire français\"\n",
    "        }\n",
    "}\n",
    "\n",
    "# Time interval of validity of the source\n",
    "cn_1847_time_interval = {\n",
    "    \"start_time\" : {\"stamp\":\"1845-01-01T00:00:00Z\",\"precision\":\"year\",\"calendar\":\"gregorian\"},\n",
    "    \"end_time\" : {\"stamp\":\"1850-01-01T00:00:00Z\",\"precision\":\"year\",\"calendar\":\"gregorian\"},\n",
    "}\n",
    "cn_1847_geojson[\"source\"] = cn_1847_source_desc\n",
    "cn_1847_geojson[\"time\"] = cn_1847_time_interval"
   ]
  },
  {
   "cell_type": "markdown",
   "metadata": {},
   "source": [
    "#### Andriveau atlas"
   ]
  },
  {
   "cell_type": "code",
   "execution_count": 14,
   "metadata": {},
   "outputs": [],
   "source": [
    "# Name of the directory where data factoid triples are stored and constructed\n",
    "an_1849_repository_name = \"factoids_1849_andriveau\"\n",
    "\n",
    "# Geojson file containting data\n",
    "an_1849_geojson_file_name = \"1849_andriveau.geojson\"\n",
    "an_1849_geojson_file = os.path.join(data_folder, an_1849_geojson_file_name)\n",
    "an_1849_kg_file_name = \"an_1849_kg.ttl\"\n",
    "an_1849_kg_file = os.path.join(tmp_folder, an_1849_kg_file_name)\n",
    "\n",
    "# Final TTL files of factoids from the 1849 Andriveau atlas\n",
    "an_1849_factoids_kg_file_name = \"an_1849_factoids.ttl\"\n",
    "an_1849_factoids_kg_file = os.path.join(tmp_folder, an_1849_factoids_kg_file_name)\n",
    "an_1849_permanent_kg_file_name = \"an_1849_permanent.ttl\"\n",
    "an_1849_permanent_kg_file = os.path.join(tmp_folder, an_1849_permanent_kg_file_name)\n",
    "\n",
    "an_1849_geojson = fm.read_json_file(an_1849_geojson_file)\n",
    "\n",
    "# Description of the source within a dictionary\n",
    "an_1849_source_desc = {\n",
    "    \"lang\" : \"fr\", \n",
    "    \"label\" : \"Plan d'Andriveau de 1849\",\n",
    "    \"publisher\" : {\n",
    "        \"label\": \"Andriveau\"\n",
    "        }\n",
    "}\n",
    "\n",
    "# Time interval of validity of the source\n",
    "an_1849_time_interval = {\n",
    "    \"start_time\" : {\"stamp\":\"1847-01-01T00:00:00Z\",\"precision\":\"year\",\"calendar\":\"gregorian\"},\n",
    "    \"end_time\" : {\"stamp\":\"1851-01-01T00:00:00Z\",\"precision\":\"year\",\"calendar\":\"gregorian\"},\n",
    "}\n",
    "\n",
    "an_1849_geojson[\"source\"] = an_1849_source_desc\n",
    "an_1849_geojson[\"time\"] = an_1849_time_interval"
   ]
  },
  {
   "cell_type": "markdown",
   "metadata": {},
   "source": [
    "#### 1871 municipal parcel map of Paris"
   ]
  },
  {
   "cell_type": "code",
   "execution_count": 15,
   "metadata": {},
   "outputs": [],
   "source": [
    "# Name of the directory where data factoid triples are stored and constructed\n",
    "pm_1871_repository_name = \"factoids_1871_plan_parcellaire_mun\"\n",
    "\n",
    "# Geojson file containting data\n",
    "pm_1871_geojson_file_name = \"1871_plan_parcellaire_mun.geojson\"\n",
    "pm_1871_geojson_file = os.path.join(data_folder, pm_1871_geojson_file_name)\n",
    "pm_1871_kg_file_name = \"pm_1871_kg.ttl\"\n",
    "pm_1871_kg_file = os.path.join(tmp_folder, pm_1871_kg_file_name)\n",
    "\n",
    "# Final TTL file of factoids from the 1871 municipal parcel map\n",
    "pm_1871_factoids_kg_file_name = \"pm_1871_factoids.ttl\"\n",
    "pm_1871_factoids_kg_file = os.path.join(tmp_folder, pm_1871_factoids_kg_file_name)\n",
    "pm_1871_permanent_kg_file_name = \"pm_1871_permanent.ttl\"\n",
    "pm_1871_permanent_kg_file = os.path.join(tmp_folder, pm_1871_permanent_kg_file_name)\n",
    "\n",
    "pm_1871_geojson = fm.read_json_file(pm_1871_geojson_file)\n",
    "\n",
    "# Description of the source within a dictionary\n",
    "pm_1871_source_desc = {\n",
    "    \"lang\" : \"fr\",\n",
    "    \"label\" : \"Plan parcellaire municipal\",\n",
    "    \"publisher\" : {\n",
    "        \"label\": \"IIIe République\"\n",
    "        }\n",
    "}\n",
    "\n",
    "# Time interval of validity of the source\n",
    "pm_1871_time_interval = {\n",
    "    \"start_time\" : {\"stamp\":\"1870-01-01T00:00:00Z\",\"precision\":\"year\",\"calendar\":\"gregorian\"},\n",
    "    \"end_time\" : {\"stamp\":\"1872-01-01T00:00:00Z\",\"precision\":\"year\",\"calendar\":\"gregorian\"},\n",
    "}\n",
    "pm_1871_geojson[\"source\"] = pm_1871_source_desc\n",
    "pm_1871_geojson[\"time\"] = pm_1871_time_interval"
   ]
  },
  {
   "cell_type": "markdown",
   "metadata": {},
   "source": [
    "#### 1888 Municipal Atlas of Paris"
   ]
  },
  {
   "cell_type": "code",
   "execution_count": 16,
   "metadata": {},
   "outputs": [],
   "source": [
    "# Name of the directory where data factoid triples are stored and constructed\n",
    "am_1888_repository_name = \"factoids_1888_atlas_municipal\"\n",
    "\n",
    "# Geojson file containting data\n",
    "am_1888_geojson_file_name = \"1888_atlas_municipal.geojson\"\n",
    "am_1888_geojson_file = os.path.join(data_folder, am_1888_geojson_file_name)\n",
    "am_1888_kg_file_name = \"am_1888_kg.ttl\"\n",
    "am_1888_kg_file = os.path.join(tmp_folder, am_1888_kg_file_name)\n",
    "\n",
    "# Final TTL file of factoids from the 1888 Municipal Atlas plan\n",
    "am_1888_factoids_kg_file_name = \"am_1888_factoids.ttl\"\n",
    "am_1888_factoids_kg_file = os.path.join(tmp_folder, am_1888_factoids_kg_file_name)\n",
    "am_1888_permanent_kg_file_name = \"am_1888_permanent.ttl\"\n",
    "am_1888_permanent_kg_file = os.path.join(tmp_folder, am_1888_permanent_kg_file_name)\n",
    "\n",
    "am_1888_geojson = fm.read_json_file(am_1888_geojson_file)\n",
    "\n",
    "# Description of the source within a dictionary\n",
    "am_1888_source_desc = {\n",
    "    \"lang\" : \"fr\", \n",
    "    \"label\" : \"Plan de l'atlas municipal de 1888\",\n",
    "    \"publisher\" : {\n",
    "        \"label\": \"Ville de Paris\"\n",
    "        }\n",
    "}\n",
    "\n",
    "# Time interval of validity of the source\n",
    "am_1888_time_interval = {\n",
    "    \"start_time\" : {\"stamp\":\"1887-01-01T00:00:00Z\",\"precision\":\"year\",\"calendar\":\"gregorian\"},\n",
    "    \"end_time\" : {\"stamp\":\"1889-01-01T00:00:00Z\",\"precision\":\"year\",\"calendar\":\"gregorian\"},\n",
    "}\n",
    "am_1888_geojson[\"source\"] = am_1888_source_desc\n",
    "am_1888_geojson[\"time\"] = am_1888_time_interval"
   ]
  },
  {
   "cell_type": "markdown",
   "metadata": {},
   "source": [
    "### Events"
   ]
  },
  {
   "cell_type": "markdown",
   "metadata": {},
   "source": [
    "TTL file describings events"
   ]
  },
  {
   "cell_type": "code",
   "execution_count": 17,
   "metadata": {},
   "outputs": [],
   "source": [
    "# Name of the directory where the factoid triples of OSM data are stored and constructed\n",
    "events_repository_name = \"factoids_events\"\n",
    "\n",
    "# TTL files containting data\n",
    "events_ttl_file_name = \"events.ttl\"\n",
    "events_ttl_file = os.path.join(data_folder, events_ttl_file_name)\n",
    "\n",
    "# Final TTL files for events factoids\n",
    "events_factoids_kg_file_name = \"events_factoids.ttl\"\n",
    "events_factoids_kg_file = os.path.join(tmp_folder, events_factoids_kg_file_name)\n",
    "events_permanent_kg_file_name = \"events_permanent.ttl\"\n",
    "events_permanent_kg_file = os.path.join(tmp_folder, events_permanent_kg_file_name)"
   ]
  },
  {
   "cell_type": "markdown",
   "metadata": {},
   "source": [
    "## Final and iterative process"
   ]
  },
  {
   "cell_type": "markdown",
   "metadata": {},
   "source": [
    "### Creating factoids in directories"
   ]
  },
  {
   "cell_type": "markdown",
   "metadata": {},
   "source": [
    "For each source, factoids are created independently in separate directories"
   ]
  },
  {
   "cell_type": "markdown",
   "metadata": {},
   "source": [
    "#### Ville de Paris\n"
   ]
  },
  {
   "cell_type": "code",
   "execution_count": 18,
   "metadata": {},
   "outputs": [],
   "source": [
    "# fc.create_factoids_repository_ville_paris(graphdb_url, vpt_repository_name, tmp_folder,\n",
    "#                                           ont_file, ontology_named_graph_name,\n",
    "#                                           factoids_named_graph_name, permanent_named_graph_name,\n",
    "#                                           vpta_csv_file, vptc_csv_file, vpt_kg_file, vpt_time_description, lang=lang)"
   ]
  },
  {
   "cell_type": "markdown",
   "metadata": {},
   "source": [
    "####  BAN\n"
   ]
  },
  {
   "cell_type": "code",
   "execution_count": 19,
   "metadata": {},
   "outputs": [],
   "source": [
    "# fc.create_factoids_repository_ban(graphdb_url, bpa_repository_name, tmp_folder,\n",
    "#                                   ont_file, ontology_named_graph_name,\n",
    "#                                   factoids_named_graph_name, permanent_named_graph_name,\n",
    "#                                   bpa_csv_file, bpa_kg_file, bpa_time_description, lang=lang)"
   ]
  },
  {
   "cell_type": "markdown",
   "metadata": {},
   "source": [
    "#### Wikidata\n"
   ]
  },
  {
   "cell_type": "code",
   "execution_count": 20,
   "metadata": {},
   "outputs": [],
   "source": [
    "# # fc.get_data_from_wikidata(wdp_land_csv_file, wdp_loc_csv_file)\n",
    "# fc.create_factoids_repository_wikidata_paris(graphdb_url, wd_repository_name, tmp_folder,\n",
    "#                                              ont_file, ontology_named_graph_name,\n",
    "#                                              factoids_named_graph_name, permanent_named_graph_name,\n",
    "#                                              wdp_land_csv_file, wdp_loc_csv_file, wdp_kg_file, wdp_time_description=wdp_time_description, lang=lang)"
   ]
  },
  {
   "cell_type": "markdown",
   "metadata": {},
   "source": [
    "#### OSM"
   ]
  },
  {
   "cell_type": "code",
   "execution_count": 21,
   "metadata": {},
   "outputs": [],
   "source": [
    "# fc.create_factoids_repository_osm(graphdb_url, osm_repository_name, tmp_folder,\n",
    "#                                   ont_file, ontology_named_graph_name,\n",
    "#                                   factoids_named_graph_name, permanent_named_graph_name,\n",
    "#                                   osm_csv_file, osm_hn_csv_file, osm_kg_file, osm_time_description=osm_time_description, lang=lang)"
   ]
  },
  {
   "cell_type": "markdown",
   "metadata": {},
   "source": [
    "#### Data from Geojson files"
   ]
  },
  {
   "cell_type": "markdown",
   "metadata": {},
   "source": [
    "* Napoleonic cadastre of Gentilly (1847)\n",
    "* Andriveau plan (1849)\n",
    "* municipal parcel map of Paris (1871)\n",
    "* municipal map of Paris (1888)"
   ]
  },
  {
   "cell_type": "code",
   "execution_count": 22,
   "metadata": {},
   "outputs": [],
   "source": [
    "# fc.create_factoids_repository_geojson_states(graphdb_url, cn_1847_repository_name, tmp_folder, ont_file, ontology_named_graph_name,\n",
    "#                                factoids_named_graph_name, permanent_named_graph_name, cn_1847_geojson, geojson_join_property, cn_1847_kg_file, tmp_kg_file, landmark_type, lang)\n",
    "# fc.create_factoids_repository_geojson_states(graphdb_url, an_1849_repository_name, tmp_folder, ont_file, ontology_named_graph_name,\n",
    "#                                factoids_named_graph_name, permanent_named_graph_name, an_1849_geojson, geojson_join_property, an_1849_kg_file, tmp_kg_file, landmark_type, lang)\n",
    "# fc.create_factoids_repository_geojson_states(graphdb_url, pm_1871_repository_name, tmp_folder, ont_file, ontology_named_graph_name,\n",
    "#                                factoids_named_graph_name, permanent_named_graph_name, pm_1871_geojson, geojson_join_property, pm_1871_kg_file, tmp_kg_file, landmark_type, lang)\n",
    "# fc.create_factoids_repository_geojson_states(graphdb_url, am_1888_repository_name, tmp_folder, ont_file, ontology_named_graph_name,\n",
    "#                                factoids_named_graph_name, permanent_named_graph_name, am_1888_geojson, geojson_join_property, am_1888_kg_file, tmp_kg_file, landmark_type, lang)"
   ]
  },
  {
   "cell_type": "markdown",
   "metadata": {},
   "source": [
    "#### Data from Events files"
   ]
  },
  {
   "cell_type": "code",
   "execution_count": 23,
   "metadata": {},
   "outputs": [],
   "source": [
    "# def create_factoids_repository_events(graphdb_url, repository_name, tmp_folder, ttl_file,\n",
    "#                                       ont_file, ontology_named_graph_name,\n",
    "#                                       factoids_named_graph_name, permanent_named_graph_name):\n",
    "#     factoids_named_graph_uri = gd.get_named_graph_uri_from_name(graphdb_url, repository_name, factoids_named_graph_name)\n",
    "#     permanent_named_graph_uri = gd.get_named_graph_uri_from_name(graphdb_url, repository_name, permanent_named_graph_name)\n",
    "    \n",
    "#     # Creating repository\n",
    "#     msp.create_factoid_repository(graphdb_url, repository_name, tmp_folder,\n",
    "#                                 ont_file, ontology_named_graph_name, ruleset_name=\"rdfsplus-optimized\",\n",
    "#                                 disable_same_as=False, clear_if_exists=True)\n",
    "    \n",
    "#     # Import ttl file in repository\n",
    "#     gd.import_ttl_file_in_graphdb(graphdb_url, repository_name, ttl_file, named_graph_name=factoids_named_graph_name)\n",
    "\n",
    "#     # Transfer all provenance descriptions to the permanent named graph\n",
    "#     msp.transfert_immutable_triples(graphdb_url, repository_name, factoids_named_graph_uri, permanent_named_graph_uri)\n"
   ]
  },
  {
   "cell_type": "code",
   "execution_count": 24,
   "metadata": {},
   "outputs": [],
   "source": [
    "# create_factoids_repository_events(graphdb_url, events_repository_name, tmp_folder,\n",
    "#                                      events_ttl_file, ont_file, ontology_named_graph_name,\n",
    "#                                      factoids_named_graph_name, permanent_named_graph_name)"
   ]
  },
  {
   "cell_type": "markdown",
   "metadata": {},
   "source": [
    "### Insertion of factoids in the fact graph"
   ]
  },
  {
   "cell_type": "code",
   "execution_count": 25,
   "metadata": {},
   "outputs": [
    {
     "data": {
      "text/plain": [
       "<Response [204]>"
      ]
     },
     "execution_count": 25,
     "metadata": {},
     "output_type": "execute_result"
    }
   ],
   "source": [
    "gd.remove_named_graph(graphdb_url, facts_repository_name, facts_named_graph_name)\n",
    "gd.remove_named_graph(graphdb_url, facts_repository_name, inter_sources_name_graph_name)"
   ]
  },
  {
   "cell_type": "markdown",
   "metadata": {},
   "source": [
    "#### Ville de Paris"
   ]
  },
  {
   "cell_type": "code",
   "execution_count": 26,
   "metadata": {},
   "outputs": [],
   "source": [
    "named_graph_name = \"source_ville_de_paris\"\n",
    "msp.transfert_factoids_to_facts_repository(graphdb_url, facts_repository_name, vpt_repository_name,\n",
    "                                           vpt_factoids_kg_file, vpt_permanent_kg_file,\n",
    "                                           factoids_named_graph_name, permanent_named_graph_name, named_graph_name, facts_named_graph_name)\n",
    "msp.import_factoids_in_facts(graphdb_url, facts_repository_name, named_graph_name, facts_named_graph_name, inter_sources_name_graph_name)"
   ]
  },
  {
   "cell_type": "markdown",
   "metadata": {},
   "source": [
    "#### Wikidata"
   ]
  },
  {
   "cell_type": "code",
   "execution_count": 27,
   "metadata": {},
   "outputs": [],
   "source": [
    "named_graph_name = \"source_wikidata\"\n",
    "msp.transfert_factoids_to_facts_repository(graphdb_url, facts_repository_name, wd_repository_name,\n",
    "                                           wdp_factoids_kg_file, wdp_permanent_kg_file,\n",
    "                                           factoids_named_graph_name, permanent_named_graph_name, named_graph_name, facts_named_graph_name)\n",
    "msp.import_factoids_in_facts(graphdb_url, facts_repository_name, named_graph_name, facts_named_graph_name, inter_sources_name_graph_name)"
   ]
  },
  {
   "cell_type": "markdown",
   "metadata": {},
   "source": [
    "#### BAN"
   ]
  },
  {
   "cell_type": "code",
   "execution_count": 28,
   "metadata": {},
   "outputs": [],
   "source": [
    "named_graph_name = \"source_ban\"\n",
    "msp.transfert_factoids_to_facts_repository(graphdb_url, facts_repository_name, bpa_repository_name,\n",
    "                                           bpa_factoids_kg_file, bpa_permanent_kg_file,\n",
    "                                           factoids_named_graph_name, permanent_named_graph_name, named_graph_name, facts_named_graph_name)\n",
    "msp.import_factoids_in_facts(graphdb_url, facts_repository_name, named_graph_name, facts_named_graph_name, inter_sources_name_graph_name)"
   ]
  },
  {
   "cell_type": "markdown",
   "metadata": {},
   "source": [
    "#### OSM"
   ]
  },
  {
   "cell_type": "code",
   "execution_count": 29,
   "metadata": {},
   "outputs": [],
   "source": [
    "named_graph_name = \"source_osm\"\n",
    "msp.transfert_factoids_to_facts_repository(graphdb_url, facts_repository_name, osm_repository_name,\n",
    "                                           osm_factoids_kg_file, osm_permanent_kg_file,\n",
    "                                           factoids_named_graph_name, permanent_named_graph_name, named_graph_name, facts_named_graph_name)\n",
    "msp.import_factoids_in_facts(graphdb_url, facts_repository_name, named_graph_name, facts_named_graph_name, inter_sources_name_graph_name)"
   ]
  },
  {
   "cell_type": "markdown",
   "metadata": {},
   "source": [
    "#### Data from Geojson files"
   ]
  },
  {
   "cell_type": "markdown",
   "metadata": {},
   "source": [
    "* Napoleonic cadastre of Gentilly (1847)\n",
    "* Andriveau plan (1849)\n",
    "* municipal parcel map of Paris (1871)\n",
    "* municipal map of Paris (1888)"
   ]
  },
  {
   "cell_type": "code",
   "execution_count": 30,
   "metadata": {},
   "outputs": [],
   "source": [
    "named_graph_name = \"source_geojson\"\n",
    "\n",
    "msp.transfert_factoids_to_facts_repository(graphdb_url, facts_repository_name, cn_1847_repository_name,\n",
    "                                           cn_1847_factoids_kg_file, cn_1847_permanent_kg_file,\n",
    "                                           factoids_named_graph_name, permanent_named_graph_name, named_graph_name, facts_named_graph_name)\n",
    "\n",
    "msp.transfert_factoids_to_facts_repository(graphdb_url, facts_repository_name, an_1849_repository_name,\n",
    "                                           an_1849_factoids_kg_file, an_1849_permanent_kg_file,\n",
    "                                           factoids_named_graph_name, permanent_named_graph_name, named_graph_name, facts_named_graph_name)\n",
    "\n",
    "msp.transfert_factoids_to_facts_repository(graphdb_url, facts_repository_name, pm_1871_repository_name,\n",
    "                                           pm_1871_factoids_kg_file, pm_1871_permanent_kg_file,\n",
    "                                           factoids_named_graph_name, permanent_named_graph_name, named_graph_name, facts_named_graph_name)\n",
    "\n",
    "msp.transfert_factoids_to_facts_repository(graphdb_url, facts_repository_name, am_1888_repository_name,\n",
    "                                           am_1888_factoids_kg_file, am_1888_permanent_kg_file,\n",
    "                                           factoids_named_graph_name, permanent_named_graph_name, named_graph_name, facts_named_graph_name)\n",
    "\n",
    "msp.import_factoids_in_facts(graphdb_url, facts_repository_name, named_graph_name, facts_named_graph_name, inter_sources_name_graph_name)\n"
   ]
  },
  {
   "cell_type": "markdown",
   "metadata": {},
   "source": [
    "#### Data from Events files"
   ]
  },
  {
   "cell_type": "code",
   "execution_count": 31,
   "metadata": {},
   "outputs": [],
   "source": [
    "named_graph_name = \"source_events\"\n",
    "\n",
    "msp.transfert_factoids_to_facts_repository(graphdb_url, facts_repository_name, events_repository_name,\n",
    "                                           events_factoids_kg_file, events_permanent_kg_file,\n",
    "                                           factoids_named_graph_name, permanent_named_graph_name, named_graph_name, facts_named_graph_name)\n",
    "msp.import_factoids_in_facts(graphdb_url, facts_repository_name, named_graph_name, facts_named_graph_name, inter_sources_name_graph_name)\n"
   ]
  },
  {
   "cell_type": "markdown",
   "metadata": {},
   "source": [
    "### Version aggregation and change inference"
   ]
  },
  {
   "cell_type": "code",
   "execution_count": 32,
   "metadata": {},
   "outputs": [],
   "source": [
    "order_named_graph_name = \"temporal_ordering\"\n",
    "\n",
    "facts_named_graph_uri = gd.get_named_graph_uri_from_name(graphdb_url, facts_repository_name, facts_named_graph_name)\n",
    "inter_sources_name_graph_uri = gd.get_named_graph_uri_from_name(graphdb_url, facts_repository_name, inter_sources_name_graph_name)\n",
    "tmp_named_graph_uri = gd.get_named_graph_uri_from_name(graphdb_url, facts_repository_name, tmp_named_graph_name)\n",
    "order_named_graph_uri = gd.get_named_graph_uri_from_name(graphdb_url, facts_repository_name, order_named_graph_name)"
   ]
  },
  {
   "cell_type": "markdown",
   "metadata": {},
   "source": [
    "#### Comparison of version values"
   ]
  },
  {
   "cell_type": "code",
   "execution_count": 33,
   "metadata": {},
   "outputs": [],
   "source": [
    "comparison_settings = {\n",
    "    \"geom_similarity_coef\": 0.85,\n",
    "    \"geom_buffer_radius\": 5,\n",
    "    \"geom_crs_uri\": URIRef('http://www.opengis.net/def/crs/EPSG/0/2154'),\n",
    "}\n",
    "comp_named_graph_name = \"comparisons\"\n",
    "comp_tmp_file_name = \"comparisons.ttl\"\n",
    "comp_tmp_file = os.path.join(tmp_folder, comp_tmp_file_name)\n",
    "avc.compare_attribute_versions(graphdb_url, facts_repository_name, comp_named_graph_name, comp_tmp_file, comparison_settings)"
   ]
  },
  {
   "cell_type": "markdown",
   "metadata": {},
   "source": [
    "#### Infer changes"
   ]
  },
  {
   "cell_type": "code",
   "execution_count": 34,
   "metadata": {},
   "outputs": [],
   "source": [
    "# # Sort landmark versions by time\n",
    "# msp.order_temporally_landmark_versions(graphdb_url, facts_repository_name, order_named_graph_uri, tmp_named_graph_uri)\n",
    "\n",
    "# # Infer missing changes for landmark and landmark relations\n",
    "# msp.infer_missing_changes_on_landmark_and_relations(graphdb_url, facts_repository_name, facts_named_graph_uri)\n",
    "# msp.infer_missing_time_on_events(graphdb_url, facts_repository_name, facts_named_graph_uri, inter_sources_name_graph_uri)\n",
    "\n",
    "# # Sort attributes by time\n",
    "# msp.order_temporally_attribute_versions(graphdb_url, facts_repository_name, order_named_graph_uri, tmp_named_graph_uri)\n",
    "# msp.create_roots_and_traces_for_landmark_attribute_versions(graphdb_url, facts_repository_name, facts_named_graph_uri, inter_sources_name_graph_uri, tmp_named_graph_uri)"
   ]
  },
  {
   "cell_type": "markdown",
   "metadata": {},
   "source": [
    "### Transfer information from factoids"
   ]
  },
  {
   "cell_type": "code",
   "execution_count": 35,
   "metadata": {},
   "outputs": [],
   "source": [
    "# msp.transfer_version_values_to_roots(graphdb_url, facts_repository_name, facts_named_graph_uri)\n",
    "# msp.transfer_provenances_to_roots(graphdb_url, facts_repository_name, facts_named_graph_uri)\n",
    "# msp.transfer_crisp_time_instant_elements_to_roots(graphdb_url, facts_repository_name, facts_named_graph_uri)"
   ]
  },
  {
   "cell_type": "markdown",
   "metadata": {},
   "source": [
    "# Test to import events"
   ]
  },
  {
   "cell_type": "code",
   "execution_count": 36,
   "metadata": {},
   "outputs": [],
   "source": [
    "# from namespaces import NameSpaces\n",
    "# np = NameSpaces()\n",
    "\n",
    "# gd.remove_named_graph(graphdb_url, facts_repository_name, tmp_named_graph_name)\n",
    "# gd.remove_named_graph(graphdb_url, facts_repository_name, order_named_graph_name)\n",
    "# msp.sort_events_and_states_on_attributes(graphdb_url, facts_repository_name, order_named_graph_uri, tmp_named_graph_uri)\n",
    "# msp.update_attribute_changes_and_versions(graphdb_url, facts_repository_name, tmp_named_graph_uri)\n",
    "# # msp.create_roots_and_traces_for_landmark_attribute_versions(graphdb_url, facts_repository_name, facts_named_graph_uri, inter_sources_name_graph_uri, tmp_named_graph_uri)\n",
    "# # gd.remove_named_graph(graphdb_url, facts_repository_name, tmp_named_graph_name)"
   ]
  },
  {
   "cell_type": "markdown",
   "metadata": {},
   "source": [
    "# Split overlapping versions"
   ]
  },
  {
   "cell_type": "code",
   "execution_count": 37,
   "metadata": {},
   "outputs": [],
   "source": [
    "from namespaces import NameSpaces\n",
    "np = NameSpaces()"
   ]
  },
  {
   "cell_type": "code",
   "execution_count": 38,
   "metadata": {},
   "outputs": [],
   "source": [
    "def get_time_description(graphdb_url:URIRef, repository_name:str, tmp_named_graph_uri:URIRef):\n",
    "    # For each attribute, create as many TimeDescription object as there are temporal values related to it\n",
    "    query1 = np.query_prefixes + f\"\"\"\n",
    "    PREFIX ofn: <http://www.ontotext.com/sparql/functions/>\n",
    "\n",
    "    INSERT {{\n",
    "        GRAPH ?g {{\n",
    "            ?rootAttr addr:hasTimeDescription [a addr:TimeDescription ; addr:hasTime ?time ; addr:hasTimeType ?timeType ; addr:hasSimplifiedTime ?simplifiedTime ; addr:hasRelatedElem ?attrElem ] .\n",
    "        }}\n",
    "    }}\n",
    "    WHERE {{\n",
    "        BIND({tmp_named_graph_uri.n3()} AS ?g)\n",
    "        ?rootAttr a addr:Attribute ; addr:hasTrace ?attr .\n",
    "        {{\n",
    "            ?lm a addr:Landmark ; addr:hasAttribute ?attr ; addr:hasTime [?propTime ?time ] .\n",
    "            ?attr addr:hasAttributeVersion ?attrElem .\n",
    "            FILTER(?propTime IN (addr:hasBeginning, addr:hasEnd))\n",
    "            BIND(IF(?propTime = addr:hasBeginning, \"start\", \"end\") AS ?timeType)\n",
    "        }} UNION {{\n",
    "            ?attrElem a addr:AttributeChange ; addr:appliedTo ?attr ; addr:dependsOn [addr:hasTime ?time] .\n",
    "            BIND(\"null\" AS ?timeType)\n",
    "        }}\n",
    "        ?time addr:timeStamp ?timeStamp .\n",
    "        BIND(ofn:asDays(?timeStamp - \"0001-01-01\"^^xsd:dateTimeStamp) AS ?simplifiedTime)\n",
    "    }}\n",
    "    \"\"\"\n",
    "\n",
    "    # For each attribute, detect duplicate time values and create a list of changes without doublons\n",
    "    query2 =  np.query_prefixes + f\"\"\"\n",
    "    INSERT {{\n",
    "        GRAPH ?g {{\n",
    "            ?time a addr:TemporalEntity ; addr:hasSimplifiedTime ?st ; addr:hasTrace ?timeTrace .\n",
    "            ?event a addr:Event ; addr:hasTime ?time .\n",
    "            ?change a addr:AttributeChange ; addr:appliedTo ?attr ; addr:dependsOn ?event ; addr:isDerivedFrom ?timeDescription .\n",
    "        }}\n",
    "    }} WHERE {{\n",
    "        {{\n",
    "            SELECT DISTINCT ?g ?attr ?st WHERE {{\n",
    "                BIND({tmp_named_graph_uri.n3()} AS ?g)\n",
    "                GRAPH ?g {{ ?attr addr:hasTimeDescription [addr:hasSimplifiedTime ?st] }}\n",
    "            }}\n",
    "        }}\n",
    "        BIND(URI(CONCAT(STR(URI(factoids:)), \"TI_\", STRUUID())) AS ?time)\n",
    "        BIND(URI(CONCAT(STR(URI(factoids:)), \"EV_\", STRUUID())) AS ?event)\n",
    "        BIND(URI(CONCAT(STR(URI(factoids:)), \"CG_\", STRUUID())) AS ?change)\n",
    "        GRAPH ?g {{\n",
    "            ?attr addr:hasTimeDescription ?timeDescription .\n",
    "            ?timeDescription addr:hasSimplifiedTime ?st ; addr:hasTime ?timeTrace .\n",
    "        }}\n",
    "    }}\n",
    "    \"\"\"\n",
    "\n",
    "    # Order changes\n",
    "    query3 =  np.query_prefixes + f\"\"\"\n",
    "    INSERT {{\n",
    "        GRAPH ?g {{ ?cg addr:hasNextChange ?cgBis . }}\n",
    "    }}\n",
    "    WHERE {{\n",
    "        {{\n",
    "            SELECT ?g ?attr ?t (MIN(?diffTime) AS ?minDiffTime) WHERE {{\n",
    "                BIND({tmp_named_graph_uri.n3()} AS ?g)\n",
    "                ?cg addr:appliedTo ?attr ; addr:dependsOn [addr:hasTime ?t].\n",
    "                ?cgBis addr:appliedTo ?attr ; addr:dependsOn [addr:hasTime ?tBis].\n",
    "                ?t addr:hasSimplifiedTime ?st .\n",
    "                ?tBis addr:hasSimplifiedTime ?stBis .\n",
    "                BIND(?stBis - ?st AS ?diffTime)\n",
    "                FILTER(?t != ?tBis && ?diffTime > 0)\n",
    "            }}\n",
    "            GROUP BY ?g ?attr ?t\n",
    "        }}\n",
    "        \n",
    "        ?cg addr:appliedTo ?attr ; addr:dependsOn [addr:hasTime ?t].\n",
    "        ?cgBis addr:appliedTo ?attr ; addr:dependsOn [addr:hasTime ?tBis].\n",
    "        ?t addr:hasSimplifiedTime ?st .\n",
    "        ?tBis addr:hasSimplifiedTime ?stBis .\n",
    "        FILTER(?stBis - ?st = ?minDiffTime)\n",
    "    }}\n",
    "    \"\"\"\n",
    "\n",
    "    # Create fake changes (related to -inf and +inf temporal values) \n",
    "    query4 = np.query_prefixes + f\"\"\"\n",
    "    INSERT {{\n",
    "        GRAPH ?g {{\n",
    "            ?newEvent a addr:Event .\n",
    "            ?newChange a addr:AttributeChange ; addr:appliedTo ?attr ; addr:dependsOn ?newEvent .\n",
    "            ?prevChange addr:hasNextChange ?nextChange .\n",
    "        }} \n",
    "    }} WHERE {{\n",
    "        {{\n",
    "            SELECT DISTINCT ?g ?attr ?cg ?firstChangeMissing WHERE {{\n",
    "                BIND({tmp_named_graph_uri.n3()} AS ?g)\n",
    "                GRAPH ?g {{ ?cg addr:appliedTo ?attr . }}\n",
    "                ?attr a addr:Attribute .\n",
    "                {{\n",
    "                    FILTER NOT EXISTS {{ ?cg addr:hasNextChange ?x }}\n",
    "                    BIND(\"false\"^^xsd:boolean AS ?firstChangeMissing)\n",
    "                }} UNION {{\n",
    "                    FILTER NOT EXISTS {{ ?x addr:hasNextChange ?cg }}\n",
    "                    BIND(\"true\"^^xsd:boolean AS ?firstChangeMissing)\n",
    "                }}\n",
    "            }}\n",
    "        }}\n",
    "        BIND(URI(CONCAT(STR(URI(factoids:)), \"CG_\", STRUUID())) AS ?newChange)\n",
    "        BIND(URI(CONCAT(STR(URI(factoids:)), \"EV_\", STRUUID())) AS ?newEvent)\n",
    "        BIND(IF(?firstChangeMissing, ?newChange, ?cg)  AS ?prevChange)\n",
    "        BIND(IF(?firstChangeMissing, ?cg, ?newChange)  AS ?nextChange)\n",
    "    }}\n",
    "    \"\"\"\n",
    "\n",
    "    # Create versions between two successive changes (one makes effective the version while the other outdates it)\n",
    "    # Get an explicit triple to have successive changes (`?cg1 addr:hasNextChange ?cg2`)\n",
    "    query5 = np.query_prefixes + f\"\"\"\n",
    "    INSERT {{\n",
    "        GRAPH ?g {{\n",
    "            ?attr addr:hasAttributeVersion ?vers .\n",
    "            ?vers a addr:AttributeVersion .\n",
    "            ?cg1 addr:makesEffective ?vers .\n",
    "            ?cg2 addr:outdates ?vers .\n",
    "        }}\n",
    "    }} WHERE {{\n",
    "        {{\n",
    "            SELECT DISTINCT ?g ?attr ?cg1 ?cg2 WHERE {{\n",
    "                BIND({tmp_named_graph_uri.n3()} AS ?g)\n",
    "                ?attr a addr:Attribute .\n",
    "                GRAPH ?g {{\n",
    "                    ?cg1 addr:appliedTo ?attr .\n",
    "                    ?cg2 addr:appliedTo ?attr .\n",
    "                    ?cg1 addr:hasNextChange ?cg2 .\n",
    "                }}\n",
    "            }}\n",
    "        }}\n",
    "        BIND(URI(CONCAT(STR(URI(factoids:)), \"AV_\", STRUUID())) AS ?vers)\n",
    "    }}\n",
    "    \"\"\"\n",
    "\n",
    "    # Link existing attribute changes with created one when the are related\n",
    "    query6 = np.query_prefixes + f\"\"\"\n",
    "    INSERT {{\n",
    "        GRAPH ?g {{ ?cg addr:hasTrace ?cgTrace . }}\n",
    "    }} WHERE {{\n",
    "        BIND({tmp_named_graph_uri.n3()} AS ?g)\n",
    "        ?attr a addr:Attribute .\n",
    "        ?cgTrace a addr:AttributeChange .\n",
    "        GRAPH ?g {{\n",
    "            ?cg addr:appliedTo ?attr ; addr:isDerivedFrom [addr:hasRelatedElem ?cgTrace] .\n",
    "        }}\n",
    "    }}\n",
    "    \"\"\"\n",
    "\n",
    "    # Link existing attribute versions related to changes with created one when the are related\n",
    "    query7 = np.query_prefixes + f\"\"\"\n",
    "    INSERT {{\n",
    "        GRAPH ?g {{ ?vers addr:hasTrace ?versTrace . }}\n",
    "    }}\n",
    "    WHERE {{\n",
    "        BIND({tmp_named_graph_uri.n3()} AS ?g)\n",
    "        ?attr a addr:Attribute .\n",
    "        ?cgTrace ?changeProp ?versTrace .\n",
    "        GRAPH ?g {{\n",
    "            VALUES ?changeProp {{ addr:makesEffective addr:outdates }}\n",
    "            ?cg a addr:AttributeChange ; addr:appliedTo ?attr ; addr:hasTrace ?cgTrace ; ?changeProp ?vers.\n",
    "        }}\n",
    "    }}\n",
    "    \"\"\"\n",
    "\n",
    "    # For each version, get changes which makes effective and outdates it (for query9)\n",
    "    query8 = np.query_prefixes + f\"\"\"\n",
    "    INSERT {{\n",
    "        GRAPH ?g {{\n",
    "            ?versTrace ?changeProp ?cg .\n",
    "        }}\n",
    "    }}\n",
    "    WHERE {{\n",
    "        BIND({tmp_named_graph_uri.n3()} AS ?g)\n",
    "        ?attr a addr:Attribute .\n",
    "        ?versTrace a addr:AttributeVersion .\n",
    "        GRAPH ?g {{\n",
    "            VALUES (?timeType ?changeProp) {{ (\"start\" addr:isMadeEffectiveBy) (\"end\" addr:isOutdatedBy) }}\n",
    "            ?cg addr:appliedTo ?attr ; addr:isDerivedFrom [addr:hasRelatedElem ?versTrace ; addr:hasTimeType ?timeType] .\n",
    "        }}\n",
    "    }}\n",
    "    \"\"\"\n",
    "\n",
    "    query9 = np.query_prefixes + f\"\"\"\n",
    "    DELETE {{\n",
    "        GRAPH ?g {{ ?versTrace addr:isMadeEffectiveBy ?cg1 ; addr:isOutdatedBy ?cg2 . }}\n",
    "    }}\n",
    "    INSERT {{\n",
    "        GRAPH ?g {{ ?vers addr:hasTrace ?versTrace }}  \n",
    "    }} WHERE {{\n",
    "        BIND({tmp_named_graph_uri.n3()} AS ?g)\n",
    "        ?attr a addr:Attribute .\n",
    "        ?versTrace a addr:AttributeVersion .\n",
    "        GRAPH ?g {{\n",
    "            ?cg1 addr:appliedTo ?attr .\n",
    "            ?cg2 addr:appliedTo ?attr .\n",
    "            ?versTrace addr:isMadeEffectiveBy ?cg1 ; addr:isOutdatedBy ?cg2 .\n",
    "            {{\n",
    "                ?cg1 addr:makesEffective ?vers .\n",
    "            }} UNION {{\n",
    "                ?cg2 addr:outdates ?vers .\n",
    "            }} UNION {{\n",
    "                ?cg1 addr:hasNextChange+ ?c .\n",
    "                ?c addr:hasNextChange+ ?cg2 .\n",
    "                ?c addr:makesEffective|addr:outdates ?vers .\n",
    "            }}\n",
    "        }}\n",
    "    }}\n",
    "    \"\"\"\n",
    "    \n",
    "    queries = [query1, query2, query3, query4, query5, query6, query7, query8, query9]\n",
    "    for query in queries:\n",
    "        gd.update_query(query, graphdb_url, repository_name)\n",
    "\n",
    "gd.remove_named_graph_from_uri(tmp_named_graph_uri)\n",
    "get_time_description(graphdb_url, facts_repository_name, tmp_named_graph_uri)"
   ]
  },
  {
   "cell_type": "code",
   "execution_count": 39,
   "metadata": {},
   "outputs": [],
   "source": [
    "msp.transfer_elements_to_roots(graphdb_url, facts_repository_name, facts_named_graph_uri)"
   ]
  },
  {
   "cell_type": "markdown",
   "metadata": {},
   "source": [
    "### Remove empty versions\n",
    "* versions not related to any trace\n",
    "* versions which changes are not related to any trace"
   ]
  },
  {
   "cell_type": "code",
   "execution_count": 40,
   "metadata": {},
   "outputs": [
    {
     "data": {
      "text/plain": [
       "<Response [204]>"
      ]
     },
     "execution_count": 40,
     "metadata": {},
     "output_type": "execute_result"
    }
   ],
   "source": [
    "query = \"\"\"\n",
    "PREFIX addr: <http://rdf.geohistoricaldata.org/def/address#>\n",
    "PREFIX rdfs: <http://www.w3.org/2000/01/rdf-schema#>\n",
    "PREFIX factoids: <http://rdf.geohistoricaldata.org/id/address/factoids/>\n",
    "DELETE {\n",
    "    ?changeME addr:appliedTo ?attr ; addr:dependsOn ?eventME ; addr:makesEffective ?version ; addr:outdates ?vO .\n",
    "    ?changeO addr:appliedTo ?attr ; addr:dependsOn ?eventO ; addr:outdates ?version ; addr:makesEffective ?vME.\n",
    "    ?attr addr:hasAttributeVersion ?version .\n",
    "    ?version a addr:AttributeVersion .\n",
    "}\n",
    "INSERT {\n",
    "    GRAPH ?g {\n",
    "    \t?change a addr:AttributeChange ; addr:appliedTo ?attr ; addr:dependsOn ?event ; addr:makesEffective ?vME ; addr:outdates ?vO.\n",
    "        ?event a addr:Event ; addr:hasTimeAfter ?timeME ; addr:hasTimeBefore ?timeO .\n",
    "        }\n",
    "}\n",
    "WHERE {\n",
    "    {\n",
    "        SELECT ?g ?attr ?version ?changeME ?changeO WHERE {\n",
    "            BIND(<http://localhost:7200/repositories/addresses_from_factoids/rdf-graphs/temporary> AS ?g)\n",
    "            GRAPH ?g {\n",
    "                ?attr addr:hasAttributeVersion ?version .\n",
    "                ?version a addr:AttributeVersion .\n",
    "                ?changeME a addr:AttributeChange ; addr:makesEffective ?version .\n",
    "                ?changeO a addr:AttributeChange ; addr:outdates ?version .\n",
    "            }\n",
    "            FILTER NOT EXISTS {?version addr:hasTrace ?versionTrace .}\n",
    "            FILTER NOT EXISTS {?changeME addr:hasTrace ?changeMETrace .}\n",
    "            FILTER NOT EXISTS {?changeO addr:hasTrace ?changeOTrace .}\n",
    "        } \n",
    "    }\n",
    "\n",
    "    OPTIONAL {\n",
    "        ?changeME addr:dependsOn ?eventME .\n",
    "        OPTIONAL { ?eventME  addr:hasTime ?timeME. }\n",
    "    }\n",
    "    OPTIONAL {\n",
    "        ?changeO addr:dependsOn ?eventO .\n",
    "        OPTIONAL { ?eventO  addr:hasTime ?timeO.}\n",
    "    }\n",
    "    OPTIONAL {\n",
    "        ?changeO addr:makesEffective ?vME .\n",
    "    }\n",
    "    OPTIONAL {\n",
    "        ?changeME addr:outdates ?vO .\n",
    "    }\n",
    "\n",
    "    BIND(URI(CONCAT(STR(URI(factoids:)), \"EV_\", STRUUID())) AS ?event)\n",
    "    BIND(URI(CONCAT(STR(URI(factoids:)), \"CG_\", STRUUID())) AS ?change)\n",
    "}\n",
    "\n",
    "\"\"\"\n",
    "\n",
    "query = \"\"\"\n",
    "PREFIX addr: <http://rdf.geohistoricaldata.org/def/address#>\n",
    "PREFIX xsd: <http://www.w3.org/2001/XMLSchema#>\n",
    "PREFIX factoids: <http://rdf.geohistoricaldata.org/id/address/factoids/>\n",
    "DELETE {\n",
    "    ?toRemoveChangeME addr:appliedTo ?attr ; addr:dependsOn ?eventME ; addr:makesEffective ?version ; addr:outdates ?vO .\n",
    "    ?toRemoveChangeO addr:appliedTo ?attr ; addr:dependsOn ?eventO ; addr:outdates ?version ; addr:makesEffective ?vME.\n",
    "    ?attr addr:hasAttributeVersion ?version .\n",
    "    ?version a addr:AttributeVersion .\n",
    "}\n",
    "INSERT {\n",
    "    GRAPH ?g {\n",
    "    \t?change a addr:AttributeChange ; addr:appliedTo ?attr ; addr:dependsOn ?event ; addr:makesEffective ?vME ; addr:outdates ?vO.\n",
    "        ?event a addr:Event ; addr:hasTimeAfter ?timeME ; addr:hasTimeBefore ?timeO .\n",
    "        }\n",
    "}\n",
    "WHERE {\n",
    "    {\n",
    "        SELECT DISTINCT ?g ?attr ?version ?changeME ?changeO ?hasChangeMETrace ?hasChangeOTrace WHERE {\n",
    "            BIND(<http://localhost:7200/repositories/addresses_from_factoids/rdf-graphs/temporary> AS ?g)\n",
    "            GRAPH ?g {\n",
    "                ?attr addr:hasAttributeVersion ?version .\n",
    "                ?version a addr:AttributeVersion .\n",
    "                ?changeME a addr:AttributeChange ; addr:makesEffective ?version .\n",
    "                ?changeO a addr:AttributeChange ; addr:outdates ?version .\n",
    "            }\n",
    "            FILTER NOT EXISTS {?version addr:hasTrace ?versionTrace .}\n",
    "            OPTIONAL { ?changeME addr:hasTrace ?changeMETrace . }\n",
    "            OPTIONAL { ?changeO addr:hasTrace ?changeOTrace . }\n",
    "            BIND(IF(BOUND(?changeMETrace), \"true\"^^xsd:boolean, \"false\"^^xsd:boolean) AS ?hasChangeMETrace)\n",
    "            BIND(IF(BOUND(?changeOTrace), \"true\"^^xsd:boolean, \"false\"^^xsd:boolean) AS ?hasChangeOTrace)\n",
    "            FILTER(!(?hasChangeMETrace && ?hasChangeOTrace))\n",
    "        } \n",
    "    }\n",
    "\n",
    "    ?changeME addr:dependsOn ?eventME .\n",
    "    ?changeO addr:dependsOn ?eventO .\n",
    "\n",
    "    BIND(URI(CONCAT(STR(URI(factoids:)), \"EV_\", STRUUID())) AS ?newEvent)\n",
    "    BIND(URI(CONCAT(STR(URI(factoids:)), \"CG_\", STRUUID())) AS ?newChange)\n",
    "\n",
    "    BIND(IF(!?hasChangeMETrace && !?hasChangeOTrace, ?newChange, IF(!?hasChangeMETrace, ?changeO, ?changeME)) AS ?change)\n",
    "    BIND(IF(!?hasChangeMETrace && !?hasChangeOTrace, ?newEvent, IF(!?hasChangeMETrace, ?eventO, ?eventME)) AS ?event)\n",
    "\n",
    "    OPTIONAL {\n",
    "        ?eventME addr:hasTime ?timeME .\n",
    "        FILTER(!?hasChangeMETrace)\n",
    "    }\n",
    "    OPTIONAL {\n",
    "        ?eventO addr:hasTime ?timeO .\n",
    "        FILTER(!?hasChangeOTrace)\n",
    "    }\n",
    "    OPTIONAL {\n",
    "        ?changeO addr:makesEffective ?vME .\n",
    "        FILTER(!?hasChangeOTrace)\n",
    "    }\n",
    "    OPTIONAL {\n",
    "        ?changeME addr:outdates ?vO .\n",
    "        FILTER(!?hasChangeMETrace)\n",
    "    }\n",
    "    OPTIONAL {\n",
    "        BIND(?changeME AS ?toRemoveChangeME)\n",
    "        FILTER(!?hasChangeMETrace)\n",
    "    }\n",
    "    OPTIONAL {\n",
    "        BIND(?changeO AS ?toRemoveChangeO)\n",
    "        FILTER(!?hasChangeOTrace)\n",
    "    }\n",
    "}\n",
    "\"\"\"\n",
    "gd.update_query(query,graphdb_url, facts_repository_name)"
   ]
  },
  {
   "cell_type": "code",
   "execution_count": 41,
   "metadata": {},
   "outputs": [],
   "source": [
    "# Choisir les versions à fusionner \n",
    "\n",
    "def to_be_merged_with(graphdb_url:URIRef, repository_name:str, facts_named_graph_uri:URIRef, inter_sources_name_graph_uri:URIRef, tmp_named_graph_uri:URIRef):\n",
    "\n",
    "    query1 = np.query_prefixes + f\"\"\"\n",
    "        INSERT {{\n",
    "            GRAPH ?g {{\n",
    "                ?vers addr:toBeMergedWith ?vers .\n",
    "            }}\n",
    "        }} WHERE {{\n",
    "            BIND({tmp_named_graph_uri.n3()} AS ?g)\n",
    "            ?vers a addr:AttributeVersion .\n",
    "        }}\n",
    "    \"\"\"\n",
    "\n",
    "    query2 = np.query_prefixes + f\"\"\"\n",
    "    INSERT {{\n",
    "        GRAPH ?gt {{\n",
    "            ?vME addr:toBeMergedWith ?vO .\n",
    "            ?vO addr:toBeMergedWith ?vME . \n",
    "        }}\n",
    "    }}\n",
    "    WHERE {{\n",
    "        BIND({tmp_named_graph_uri.n3()} AS ?gt)\n",
    "        ?change a addr:AttributeChange ; addr:makesEffective ?vME ; addr:outdates ?vO .\n",
    "        FILTER NOT EXISTS {{ ?change addr:hasTrace ?changeTrace . }}\n",
    "        ?vME addr:hasTrace ?vMETrace .\n",
    "        ?vO addr:hasTrace ?vOTrace .\n",
    "        {{ ?vMETrace addr:sameVersionValueAs ?vOTrace . }} UNION {{ FILTER(sameTerm(?vMETrace, ?vOTrace)) }}\n",
    "        MINUS {{\n",
    "            ?vME addr:hasTrace ?vMETrace2 .\n",
    "            ?vO addr:hasTrace ?vOTrace2 .\n",
    "            ?vMETrace2 addr:differentVersionValueFrom ?vOTrace2 .\n",
    "        }}\n",
    "    }}\n",
    "    \"\"\"\n",
    "\n",
    "    # Aggregation of successive versions with similar values (in several queries)\n",
    "    # Add triples indicating similarity (addr:toBeMergedWith) with successive versions that have similar values (addr:hasNextVersion or addr:hasOverlappingVersion)\n",
    "    # If v1 addr:toBeMergedWith v2 and v2 addr:toBeMergedWith v3 then v1 addr:toBeMergedWith v3.\n",
    "    query3 = np.query_prefixes + f\"\"\"\n",
    "        INSERT {{\n",
    "            GRAPH ?g {{ ?attrVers1 addr:toBeMergedWith ?attrVers2 . }}\n",
    "        }} WHERE {{\n",
    "            BIND({tmp_named_graph_uri.n3()} AS ?g)\n",
    "            ?attrVers1 addr:toBeMergedWith+ ?attrVers2 .\n",
    "        }}\n",
    "    \"\"\"\n",
    "    \n",
    "    queries = [query1, query2, query3]\n",
    "    for query in queries:\n",
    "        gd.update_query(query, graphdb_url, repository_name)\n",
    "\n",
    "def merge_attribute_versions_to_be_merged(graphdb_url:URIRef, repository_name:str, facts_named_graph_uri:URIRef, inter_sources_name_graph_uri:URIRef, tmp_named_graph_uri:URIRef):\n",
    "    \"\"\"\n",
    "    It may be more than two versions are similar to each other. To detect all the similar versions, we will associate them with a mergedVal constructed from the URIs of the similar versions.\n",
    "    So if v1 is similar to v2, v3 and v4, the mergedVal will be ‘uriV1;uriV2;uriV3;uriV4’ where uriVi is the URI of version i. v2, v3 and v4 will have the same mergedVal.\n",
    "    Triple created will then be <v1 addr:hasMergedVal ‘uriV1;uriV2;uriV3;uriV4’>.\n",
    "    This step is done with `query3`.\n",
    "    \"\"\"\n",
    "    \n",
    "    # For each version, we create a value (versMergeVal) which is the fusion of the URIs of versions that are similar.\n",
    "    query1 = np.query_prefixes + f\"\"\"\n",
    "        INSERT {{\n",
    "            GRAPH ?g {{ ?vers1 addr:versMergeVal ?versMergeVal }}\n",
    "        }} WHERE {{\n",
    "            BIND({tmp_named_graph_uri.n3()} AS ?g)\n",
    "            {{\n",
    "                SELECT ?vers1 (GROUP_CONCAT(STR(?vers2) ; separator=\"|\") as ?versMergeVal) WHERE {{\n",
    "                    ?vers1 addr:toBeMergedWith ?vers2 .\n",
    "                }}\n",
    "                GROUP BY ?vers1 ORDER BY ?vers2\n",
    "            }}\n",
    "        }}\n",
    "    \"\"\"\n",
    "\n",
    "    # Creation of merged attribute versions\n",
    "    query2 = np.query_prefixes + \"\"\"\n",
    "        INSERT {\n",
    "            GRAPH ?gf {\n",
    "                ?attr addr:hasAttributeVersion ?rootAttrVers .\n",
    "                ?rootAttrVers a addr:AttributeVersion .\n",
    "            }\n",
    "            GRAPH ?gt {\n",
    "                ?rootAttrVers addr:createdFrom ?attrVers .\n",
    "            }\n",
    "        }\n",
    "        WHERE {\n",
    "            BIND(<http://localhost:7200/repositories/addresses_from_factoids/rdf-graphs/facts> AS ?gf)\n",
    "            BIND(<http://localhost:7200/repositories/addresses_from_factoids/rdf-graphs/temporary> AS ?gt)\n",
    "            BIND(URI(CONCAT(STR(URI(facts:)), \"AV_\", STRUUID())) AS ?rootAttrVers)\n",
    "            {\n",
    "                SELECT DISTINCT ?versMergeVal WHERE {\n",
    "                    BIND(<http://localhost:7200/repositories/addresses_from_factoids/rdf-graphs/temporary> AS ?gt)\n",
    "                    GRAPH ?gt {\n",
    "                        ?attrVers a addr:AttributeVersion ; addr:versMergeVal ?versMergeVal .\n",
    "                    }\n",
    "                }\n",
    "            }\n",
    "            ?attr addr:hasAttributeVersion ?attrVers .\n",
    "            ?attrVers addr:versMergeVal ?versMergeVal ; addr:hasTrace ?attrVersTrace.\n",
    "        }\n",
    "\"\"\"\n",
    "\n",
    "    # Creation of changes between consecutive merged attribute versions\n",
    "    query3 = np.query_prefixes + \"\"\"\n",
    "\n",
    "INSERT {\n",
    "    GRAPH ?gf {\n",
    "    \t?newChange a addr:AttributeChange ; addr:appliedTo ?attr ; addr:dependsOn ?newEvent ; addr:makesEffective ?vME ; addr:outdates ?vO .\n",
    "        ?newEvent a addr:Event .\n",
    "    }\n",
    "    GRAPH ?gt {\n",
    "        ?newChange addr:createdFrom ?change .\n",
    "        ?newEvent addr:createdFrom ?event .\n",
    "    }\n",
    "}\n",
    "WHERE {\n",
    "    BIND(<http://localhost:7200/repositories/addresses_from_factoids/rdf-graphs/temporary> AS ?gt)\n",
    "    {\n",
    "        SELECT * WHERE {\n",
    "            BIND(<http://localhost:7200/repositories/addresses_from_factoids/rdf-graphs/facts> AS ?gf)\n",
    "            ?change a addr:AttributeChange .\n",
    "            {\n",
    "                ?change addr:makesEffective ?vMETrace ; addr:outdates ?vOTrace .\n",
    "                ?vME addr:createdFrom ?vMETrace .\n",
    "                ?vO addr:createdFrom ?vOTrace .\n",
    "                FILTER(!sameTerm(?vME, ?vO))\n",
    "            } UNION {\n",
    "                ?change addr:makesEffective ?vMETrace .\n",
    "                ?vME addr:createdFrom ?vMETrace .\n",
    "                FILTER NOT EXISTS { ?change addr:outdates ?vOTrace . }\n",
    "            } UNION {\n",
    "                ?change addr:outdates ?vOTrace .\n",
    "                ?vO addr:createdFrom ?vOTrace .\n",
    "                FILTER NOT EXISTS { ?change addr:makesEffective ?vMETrace . }\n",
    "            }\n",
    "        }\n",
    "    }\n",
    "    ?change addr:appliedTo ?attr ; addr:dependsOn ?event .\n",
    "    BIND(URI(CONCAT(STR(URI(facts:)), \"CG_\", STRUUID())) AS ?newChange)\n",
    "\tBIND(URI(CONCAT(STR(URI(facts:)), \"EV_\", STRUUID())) AS ?newEvent)\n",
    "}\n",
    "\n",
    "\"\"\"\n",
    "\n",
    "    query4 = np.query_prefixes + \"\"\"\n",
    "INSERT {\n",
    "    GRAPH ?gf {\n",
    "        ?newTime a addr:CrispTimeInstant .\n",
    "        ?event ?timeProp ?newTime .\n",
    "    }\n",
    "    GRAPH ?gt {\n",
    "        ?newTime addr:createdFrom ?timeTrace . \n",
    "    }\n",
    "} WHERE { \n",
    "    {\n",
    "        SELECT * WHERE {\n",
    "            ?event a addr:Event ; addr:createdFrom ?eventTrace .\n",
    "            {\n",
    "                BIND(addr:hasTime AS ?timeProp)\n",
    "                ?eventTrace addr:hasTime ?timeTrace .\n",
    "            } UNION {\n",
    "                ?eventTrace ?timeProp ?timeTrace .\n",
    "                FILTER (?timeProp IN (addr:hasTimeBefore, addr:hasTimeAfter))\n",
    "                FILTER NOT EXISTS { ?eventTrace addr:hasTime ?time }\n",
    "            }\n",
    "        }\n",
    "    }\n",
    "    BIND(<http://localhost:7200/repositories/addresses_from_factoids/rdf-graphs/temporary> AS ?gt)\n",
    "    BIND(<http://localhost:7200/repositories/addresses_from_factoids/rdf-graphs/facts> AS ?gf)\n",
    "    BIND(URI(CONCAT(STR(URI(facts:)), \"TI_\", STRUUID())) AS ?newTime)\n",
    "}\n",
    "\"\"\"\n",
    "\n",
    "    # Transfer traces from temporary elements to facts ones\n",
    "    query5 = np.query_prefixes + \"\"\"\n",
    "INSERT {\n",
    "    GRAPH ?gi {\n",
    "        ?elem addr:hasTrace ?elemTrace .\n",
    "    }\n",
    "} WHERE {\n",
    "\tBIND(<http://localhost:7200/repositories/addresses_from_factoids/rdf-graphs/inter_sources> AS ?gi)\n",
    "    ?elem addr:createdFrom ?tmpElem .\n",
    "    ?tmpElem addr:hasTrace ?elemTrace .\n",
    "}\n",
    "\"\"\"\n",
    "\n",
    "    queries = [query1, query2, query3, query4, query5]\n",
    "    # queries = [query1, query2, query3, query4]\n",
    "    for query in queries:\n",
    "        gd.update_query(query, graphdb_url, repository_name)\n",
    "\n",
    "    msp.transfer_version_values_to_roots(graphdb_url, repository_name, facts_named_graph_uri)\n",
    "\n",
    "to_be_merged_with(graphdb_url, facts_repository_name, facts_named_graph_uri, inter_sources_name_graph_uri, tmp_named_graph_uri)\n",
    "merge_attribute_versions_to_be_merged(graphdb_url, facts_repository_name, facts_named_graph_uri, inter_sources_name_graph_uri, tmp_named_graph_uri)"
   ]
  },
  {
   "cell_type": "code",
   "execution_count": 42,
   "metadata": {},
   "outputs": [
    {
     "data": {
      "text/plain": [
       "<Response [204]>"
      ]
     },
     "execution_count": 42,
     "metadata": {},
     "output_type": "execute_result"
    }
   ],
   "source": [
    "# Transfer factoid information to facts\n",
    "msp.transfer_elements_to_roots(graphdb_url, facts_repository_name, facts_named_graph_uri)\n",
    "\n",
    "# Remove temporary named graph (which is used for construction)\n",
    "gd.remove_named_graph_from_uri(tmp_named_graph_uri)"
   ]
  }
 ],
 "metadata": {
  "kernelspec": {
   "display_name": "Python 3",
   "language": "python",
   "name": "python3"
  },
  "language_info": {
   "codemirror_mode": {
    "name": "ipython",
    "version": 3
   },
   "file_extension": ".py",
   "mimetype": "text/x-python",
   "name": "python",
   "nbconvert_exporter": "python",
   "pygments_lexer": "ipython3",
   "version": "3.10.12"
  },
  "orig_nbformat": 4
 },
 "nbformat": 4,
 "nbformat_minor": 2
}
